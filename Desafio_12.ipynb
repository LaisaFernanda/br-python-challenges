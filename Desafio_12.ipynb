{
 "cells": [
  {
   "cell_type": "markdown",
   "metadata": {
    "colab_type": "text",
    "id": "view-in-github"
   },
   "source": [
    "<a href=\"https://colab.research.google.com/github/WittmannF/br-data-science/blob/master/python/challenges/Desafio_12.ipynb\" target=\"_parent\"><img src=\"https://colab.research.google.com/assets/colab-badge.svg\" alt=\"Open In Colab\"/></a>"
   ]
  },
  {
   "cell_type": "markdown",
   "metadata": {
    "colab_type": "text",
    "id": "AYHY2YXQf6J2"
   },
   "source": [
    "### Desafio 12\n",
    "\n",
    "Escreva uma função em Python para verificar a validade de uma senha.\n",
    "\n",
    "Validação:\n",
    "\n",
    "* Pelo menos 1 letra entre [a-z] e 1 letra entre [A-Z].\n",
    "* Pelo menos 1 número entre [0-9].\n",
    "* Pelo menos 1 caractere de [$ # @].\n",
    "* Comprimento mínimo de 6 caracteres.\n",
    "* Comprimento máximo de 16 caracteres.\n",
    "\n",
    "Entradas: \"12345678\", \"J3sus0\", \"#Te5t300\", \"J*90j12374\", \"Michheeul\", \"Monk3y6\"\n",
    "\n",
    "A saída deve ser a senha e um texto indicando se a senha é válida ou inválida:\n",
    "\n",
    "```\n",
    "\"1234\" - Senha inválida\n",
    "\"Qw#1234\" - Senha válida\n",
    "```"
   ]
  },
  {
   "cell_type": "code",
   "execution_count": 1,
   "metadata": {
    "colab": {},
    "colab_type": "code",
    "id": "UGgtGYGGf6J3"
   },
   "outputs": [],
   "source": [
    "import re\n",
    "lista = [\"12345678\", \"J3sus0\", \"#Te5t300\", \"J*90j12374\", \"Michheeul\", \"Monk3y6\"]"
   ]
  },
  {
   "cell_type": "code",
   "execution_count": 2,
   "metadata": {},
   "outputs": [],
   "source": [
    "def validar_senha(senha):\n",
    "    \n",
    "    if(len(senha) < 6 or len(senha) > 16):\n",
    "        return False\n",
    "    \n",
    "    if(len(re.findall(r'[A-Z]',senha)) == 0):\n",
    "        return False\n",
    "    \n",
    "    if(len(re.findall(r'[a-z]',senha)) == 0):\n",
    "        return False\n",
    "    \n",
    "    if(len(re.findall(r'[0-9]',senha)) == 0):\n",
    "        return False\n",
    "    \n",
    "    if(len(re.findall(r'[$,#,@]',senha)) == 0):\n",
    "        return False\n",
    "    \n",
    "    return True"
   ]
  },
  {
   "cell_type": "code",
   "execution_count": 3,
   "metadata": {},
   "outputs": [
    {
     "ename": "SyntaxError",
     "evalue": "unexpected EOF while parsing (<ipython-input-3-e822bd1c2450>, line 5)",
     "output_type": "error",
     "traceback": [
      "\u001b[1;36m  File \u001b[1;32m\"<ipython-input-3-e822bd1c2450>\"\u001b[1;36m, line \u001b[1;32m5\u001b[0m\n\u001b[1;33m    print(f'Senha inválida: {item}'\u001b[0m\n\u001b[1;37m                                   ^\u001b[0m\n\u001b[1;31mSyntaxError\u001b[0m\u001b[1;31m:\u001b[0m unexpected EOF while parsing\n"
     ]
    }
   ],
   "source": [
    "for item in lista:\n",
    "    if(validar_senha(item)):\n",
    "        print(f'Senha válida: {item}')\n",
    "    else:\n",
    "        print(f'Senha inválida: {item}'"
   ]
  },
  {
   "cell_type": "code",
   "execution_count": 1,
   "metadata": {
    "colab": {},
    "colab_type": "code",
    "id": "n8F01NzD9uHm"
   },
   "outputs": [
    {
     "ename": "SyntaxError",
     "evalue": "invalid syntax (<ipython-input-1-82b07f74778e>, line 1)",
     "output_type": "error",
     "traceback": [
      "\u001b[1;36m  File \u001b[1;32m\"<ipython-input-1-82b07f74778e>\"\u001b[1;36m, line \u001b[1;32m1\u001b[0m\n\u001b[1;33m    In [2]:\u001b[0m\n\u001b[1;37m           ^\u001b[0m\n\u001b[1;31mSyntaxError\u001b[0m\u001b[1;31m:\u001b[0m invalid syntax\n"
     ]
    }
   ],
   "source": [
    "In [2]:\n",
    "# Seu código\n",
    "# importação da biblioteca de Regular Expression\n",
    "# https://docs.python.org/3/library/re.html\n",
    "import re \n",
    "\n",
    "# função utilizando validação por regex\n",
    "def valida_senha_regex(senha):\n",
    "    reg = \"^(?=.*[a-z])(?=.*[A-Z])(?=.*\\d)(?=.*[@$#])[A-Za-z\\d@$#]{6,16}$\"\n",
    "    condicao = re.compile(reg) \n",
    "    valida = re.search(condicao, senha) \n",
    "    if valida: \n",
    "        print(senha, \"- Senha válida\") \n",
    "    else: \n",
    "        print(senha, \"- Senha inválida\") \n",
    "\n",
    "# função utilizando validações convencionais\n",
    "def valida_senha(senha): \n",
    "    carac_especiais =['@','$','#']\n",
    "    val = True\n",
    "    while True:   \n",
    "        if len(senha) < 6: \n",
    "            val = False\n",
    "            break\n",
    "        elif len(senha) > 16: \n",
    "            val = False\n",
    "            break\n",
    "        elif not any(char.isdigit() for char in senha):\n",
    "            val = False\n",
    "            break\n",
    "        elif not any(char.isupper() for char in senha):\n",
    "            val = False\n",
    "            break\n",
    "        elif not any(char.islower() for char in senha):\n",
    "            val = False\n",
    "            break\n",
    "        elif not any(char in carac_especiais for char in senha): \n",
    "            val = False\n",
    "            break\n",
    "        elif val: \n",
    "            return val \n",
    "\n",
    "\n",
    "Entradas = [\"12345678\", \"J3sus0\", \"#Te5t300\", \"J*90j12374\", \"Michheeul\", \"Monk3y6\", \"1234\", \"Qw#1234\"]\n",
    "\n",
    "print ('Resultado com function valida_senha_regex')\n",
    "# Usa função com Regex\n",
    "for i in range(len(Entradas)): \n",
    "    valida_senha_regex(Entradas[i])\n",
    "\n",
    "print ('\\nResultado com function valida_senha')\n",
    "# Usa função convencional\n",
    "for i in range(len(Entradas)): \n",
    "    if (valida_senha(Entradas[i])):\n",
    "        print (Entradas[i], \"- Senha válida\")\n",
    "    else:\n",
    "        print (Entradas[i], \"- Senha inválida\")\n",
    "\n",
    "    "
   ]
  }
 ],
 "metadata": {
  "anaconda-cloud": {},
  "colab": {
   "include_colab_link": true,
   "name": "Desafio 12.ipynb",
   "provenance": []
  },
  "kernelspec": {
   "display_name": "Python 3",
   "language": "python",
   "name": "python3"
  },
  "language_info": {
   "codemirror_mode": {
    "name": "ipython",
    "version": 3
   },
   "file_extension": ".py",
   "mimetype": "text/x-python",
   "name": "python",
   "nbconvert_exporter": "python",
   "pygments_lexer": "ipython3",
   "version": "3.8.5"
  }
 },
 "nbformat": 4,
 "nbformat_minor": 1
}
